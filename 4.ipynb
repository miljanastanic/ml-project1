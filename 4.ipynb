{
  "cells": [
    {
      "cell_type": "markdown",
      "metadata": {
        "id": "aCehKoCEmmtx"
      },
      "source": [
        "# ***Problem 4: Rad sa tekstom / Naive Bayes [35p] ***\n",
        " \n",
        "U arhivi se nalazi datoteka ​fake_news.csv​ koja sadrži skup podataka artikala iz novina koji su podeljeni u dve klase: pouzdani i nepouzdani. Kompletno rešenje za ovaj problem (sva tri dela) treba uneti u fajl ​4.py​. Pokretanje ovog fajla treba da izvrši sve pomenuto u nastavku problema i ispiše sve relevantne rezultate.\n",
        "\n",
        "[25p] Očistiti skup podataka i zatim kreirati feature vektore metodama po izboru. \n",
        "Podeliti skup podataka na trening i test skup (po odnosu 80:20). Fitovati Multinomial Naive Bayes model. Neophodan je ​accuracy​ na test skupu od barem 75% (prosečan u tri uzastopna pokretanja programa). \n",
        "\n",
        "[5p] Kreirati matricu konfuzije (matrica [[TN, FP], [FN, TP]]).  \n",
        "\n",
        "[5p] Pronaći 5 najčešće korišćenih reči u pouzdanim člancima. Isto uraditi i za nepouzdane i prokomentarisati rezultate (u komentaru koda). Ako uvedemo metriku LR(reč) ​kao ​LR(reč) = br. poj. u pouzdanim (reč) / br. poj. u nepouzdanim (reč) pronaći 5 reči sa najvećom i 5 reči sa najmanjom vrednošću ove metrike. Metrika se definiše samo za reči koje se barem 10 puta pojavljuju u pouzdanom, i 10 puta u nepouzdanom korpusu, nakon čišćenja podataka. Prokomentarisati 10 ovako dobijenih reči, uporediti sa prethodnim rezultatima, i objasniti značenje metrike ​LR​ u komentaru ispod koda. \n",
        "\n",
        "Hint: Obratite posebnu pažnju na čišćenje podataka. Evaluirajte dobijene “čiste” podatke dok ne dođete do dovoljno kvalitetne metode čišćenja za ovaj skup podataka.\n",
        "\n",
        "Hint: Ukoliko koristite BoW pokušajte da limitirate vokabular na 10000 najčešće korišćenih reči u celom skupu podataka kako feature vektori ne bi bili previše dugački.\n"
      ]
    },
    {
      "cell_type": "code",
      "execution_count": null,
      "metadata": {
        "id": "P1ZQwQZ0K2vK"
      },
      "outputs": [],
      "source": [
        "!pip install nltk"
      ]
    },
    {
      "cell_type": "code",
      "execution_count": null,
      "metadata": {
        "id": "74I43QRCK3xM"
      },
      "outputs": [],
      "source": [
        "import nltk\n",
        "nltk.download()"
      ]
    },
    {
      "cell_type": "code",
      "execution_count": null,
      "metadata": {
        "id": "HjcYlx1Gkzad"
      },
      "outputs": [],
      "source": [
        "import csv\n",
        "import html\n",
        "import re\n",
        "import math\n",
        "import sys\n",
        "from nltk.tokenize import word_tokenize\n",
        "from nltk.stem import PorterStemmer\n",
        "from nltk.corpus import stopwords\n",
        "from nltk import FreqDist\n",
        "import pickle\n",
        "import numpy as np\n",
        "from sklearn.metrics import confusion_matrix\n",
        "import seaborn as sns\n",
        "import matplotlib.pyplot as plt\n",
        "#from autocorrect import spell"
      ]
    },
    {
      "cell_type": "code",
      "execution_count": null,
      "metadata": {
        "id": "UQKtcGGUIYmU"
      },
      "outputs": [],
      "source": [
        "%tensorflow_version 1.x"
      ]
    },
    {
      "cell_type": "code",
      "execution_count": null,
      "metadata": {
        "id": "eTurp1HXBAtc"
      },
      "outputs": [],
      "source": [
        "# \"Analysis dataset from fake_news.csv\"\n",
        "\n",
        "def load_csv(path):\n",
        "\n",
        "  #Uzimamo podatke iz fake_news.csv fajla\n",
        "  x, y = [], []\n",
        "  csv.field_size_limit(sys.maxsize)\n",
        "  with open(path, 'r', encoding='latin1') as f:\n",
        "    reader = csv.reader(f)\n",
        "    next(reader, None)\n",
        "    for row in reader:\n",
        "      x.append(row[3])\n",
        "      y.append(int(row[4]))\n",
        "      \n",
        "  return x, y\n",
        "\n",
        "def clean(x):\n",
        "    \n",
        "  #Uklanjamo specijalne karaktere i pretvaramo velika slova u mala\n",
        "  x = [re.sub(r'[^a-zA-Z0-9\\s]', '', tw) for tw in x]\n",
        "  x = [tw.lower() for tw in x]\n",
        "  return x\n",
        "\n",
        "def get_words(x):\n",
        "     \n",
        "  #Tokenizujemo reci i ukljanjamo reci koje nemaju smisla\n",
        "  x = [word_tokenize(tw) for tw in x]\n",
        "  stopword_list = set(stopwords.words('english'))\n",
        "  x = [[w for w in tw if not w in stopword_list] for tw in x]\n",
        "          \n",
        "  # Ostavljamo samo koren reci\n",
        "  porter = PorterStemmer()\n",
        "  x = [[porter.stem(w) for w in tw] for tw in x]\n",
        "  return x\n",
        "\n",
        "def compute_bow_histograms(x, nb_words):\n",
        "  # Take most common nb_words words and represent each\n",
        "  # tweet as a histogram of word occurences\n",
        "  freq = FreqDist([w for tw in x for w in tw])\n",
        "  best_words, _ = zip(*freq.most_common(nb_words))\n",
        "\n",
        "\n",
        "  #komentar:\n",
        "  #   napomena: koristili smo manji procenat za test i manje reci zbog vremena izvrsavanja\n",
        "  #\n",
        "  #         U prolazu za podeljenim podacima 10% za val i 10% za test i 1000 reci smo dobili sledece reci:\n",
        "  #               most common words: [ said ,  mr ,  trump ,  one ,  state ]. \n",
        "  #               most uncommon words: [ appeal ,  hate ,  opinion ,  franc ,  appar ]. \n",
        "  #\n",
        "  #         U prolazu za podeljenim podacima 20% za val i 20% za test i 2000 reci smo dobili sledece reci:\n",
        "  #               most common words: [ said ,  mr ,  trump ,  one ,  state ]. \n",
        "  #               most uncommon words: [ speed ,  intervent ,  scientif ,  reput ,  itali ]. \n",
        "  #\n",
        "  # U ova dva pokretanja programa dobili smo iste reci koje se najcesce ponavljaju, a razlicite reci koje se najredje ponavljaju.\n",
        "\n",
        "  print(\"most common words: [\", best_words[0], \", \", best_words[1], \", \", best_words[2], \", \", best_words[3], \", \", best_words[4], \"]. \")\n",
        "  print(\"most uncommon words: [\", best_words[len(best_words)-1], \", \", best_words[len(best_words)-2], \", \", best_words[len(best_words)-3], \", \", best_words[len(best_words)-4], \", \", best_words[len(best_words)-5], \"]. \")\n",
        "\n",
        "\n",
        "  x_bows = []\n",
        "  for tw in x:\n",
        "    bow = dict()\n",
        "    for i in range(nb_words):\n",
        "      cnt = tw.count(best_words[i])\n",
        "      if cnt > 0:\n",
        "        bow[i] = cnt\n",
        "    x_bows.append(bow)\n",
        "  return x_bows"
      ]
    },
    {
      "cell_type": "markdown",
      "metadata": {
        "id": "1Pl2FDrdzdht"
      },
      "source": [
        "U obradi teksta se često koristi Multinomial Naive Bayes sa BoW reprezentacijom koja čuva brojeve pojavljivanja\n",
        "Podsetnik: u BoW jedan feature je jedna reč tj. broj pojavljivanja te reči u tekst.\n",
        "U modelu / sledecem delu koda cemo uraditi Multinomial Naive Bayes i implementiracemo dve metode: fit(), predict().\n",
        "Fit() metoda prima neki ulazni parametar x (nekad i y kao u nasem slucaju) i fitujemo kako bismo bili u mogucnosti da previdimo predict() gde pripadaju do sada ne vidjeni atributi. "
      ]
    },
    {
      "cell_type": "code",
      "execution_count": null,
      "metadata": {
        "id": "pURTybfEzeWC"
      },
      "outputs": [],
      "source": [
        "def fit(data):\n",
        "  global priors, likelihoods\n",
        "  #prvo cemo u nb_examples staviti broj ulaznih parametara koje imamo\n",
        "  x, labels = data['x'], data['y']\n",
        "  nb_examples = len(labels)\n",
        "\n",
        "  # Racunamo P(Klasa) - priors\n",
        "  priors = []\n",
        "  for c in range(nb_classes):\n",
        "    priors.append(labels.count(c) / nb_examples)\n",
        "  \n",
        "  print('Priors:')\n",
        "  print(priors)\n",
        "\n",
        "  # Racunamo broj pojavljivanja svake reci u svakoj klasi\n",
        "  occs = [[0] * nb_events for _ in range(nb_classes)]\n",
        "  for i in range(nb_examples):\n",
        "        c = labels[i]\n",
        "        for w, cnt in x[i].items():\n",
        "          occs[c][w] += cnt\n",
        "    \n",
        "  # Racunamo P(Rec_i|Klasa) - likelihoods\n",
        "  likelihoods = [[0] * nb_events for _ in range(nb_classes)]\n",
        "  for c in range(nb_classes):\n",
        "    for w in range(nb_events):\n",
        "      num = occs[c][w] + pseudocount\n",
        "      den = sum(occs[c]) + nb_events*pseudocount\n",
        "      likelihoods[c][w] = num / den\n",
        "\n",
        "#Racunamo P(Klasa|bow) za svaku klasu\n",
        "def predict(xs):\n",
        "  nb_examples = len(xs)\n",
        "  preds = []\n",
        "  for i in range(nb_examples):\n",
        "    log_probs = []\n",
        "    for c in range(nb_classes):\n",
        "      log_prob = math.log(priors[c])\n",
        "      for w, cnt in xs[i].items():\n",
        "        log_prob += cnt * math.log(likelihoods[c][w])\n",
        "      log_probs.append(log_prob)\n",
        "\n",
        "    #najveca verovatnoca daje nam predikciju\n",
        "    pred = log_probs.index(max(log_probs))\n",
        "    preds.append(pred)\n",
        "\n",
        "  return preds\n",
        "\n",
        "\n",
        "    \n"
      ]
    },
    {
      "cell_type": "markdown",
      "metadata": {
        "id": "1CiLKrsldPGY"
      },
      "source": [
        "Accuracy"
      ]
    },
    {
      "cell_type": "code",
      "execution_count": null,
      "metadata": {
        "id": "LpuztimddOSs"
      },
      "outputs": [],
      "source": [
        "def calc_acc(labels, predictions):\n",
        "        nb_correct = 0\n",
        "        nb_total = len(labels)\n",
        "        for i in range(nb_total):\n",
        "            if labels[i] == predictions[i]:\n",
        "                nb_correct += 1\n",
        "        return nb_correct / nb_total"
      ]
    },
    {
      "cell_type": "markdown",
      "metadata": {
        "id": "ak5N32L8L-yJ"
      },
      "source": [
        "Ucitavanje dataset-a, fitovanje modela, evaluacije trening seta i validation seta i potraga za najboljim modelom"
      ]
    },
    {
      "cell_type": "code",
      "execution_count": null,
      "metadata": {
        "id": "ax-JHf7zMOWA"
      },
      "outputs": [],
      "source": [
        "# U specifikaciji trazeno je nb_words = 10000, ratio_val = 0.8, ratio_test = 0.2\n",
        "# ali je smanjeno zbog vremena izvrsavanja programa\n",
        "\n",
        "nb_classes = 2 # (Pouzdan, nije pouzdan)\n",
        "nb_words = 1000\n",
        "load_cached = True\n",
        "path = \"/fake_news.csv\"\n",
        "ratio_val = 0.1\n",
        "ratio_test = 0.1\n",
        "\n",
        "print(path)\n",
        "x, y = load_csv(path)\n",
        "x = clean(x)\n",
        "x = get_words(x)\n",
        "x = compute_bow_histograms(x, nb_words)\n",
        "\n",
        "\n",
        "nb_total = len(x)\n",
        "nb_test = int(ratio_test * nb_total)\n",
        "nb_val = int(ratio_val * nb_total)\n",
        "nb_train = nb_total - nb_test - nb_val\n",
        "    \n",
        "train = {\n",
        "    'x': x[:nb_train], \n",
        "    'y': y[:nb_train]\n",
        "}\n",
        "val = {\n",
        "    'x': x[nb_train:nb_train+nb_val],\n",
        "    'y': y[nb_train:nb_train+nb_val]\n",
        "}\n",
        "test = {\n",
        "    'x': x[nb_train+nb_val:],\n",
        "    'y': y[nb_train+nb_val:]\n",
        "}\n",
        "\n",
        "models = dict()\n",
        "nb_events = nb_words\n"
      ]
    },
    {
      "cell_type": "code",
      "execution_count": null,
      "metadata": {
        "id": "W0BGzGZZc-Dr"
      },
      "outputs": [],
      "source": [
        "mdl = 0\n",
        "for pseudocount in range(1, 30):\n",
        "  print('Fitting a model with pseudocount={}'.format(pseudocount))\n",
        "  fit(train)\n",
        "  \n",
        "  preds_train = predict(train['x'])\n",
        "  acc_train = calc_acc(train['y'], preds_train)\n",
        "  print('Train set accuracy: {0:.4f}'.format(acc_train))\n",
        "\n",
        "  preds_val = predict(val['x'])\n",
        "  acc_val = calc_acc(val['y'], preds_val)\n",
        "  print('Validation set accuracy: {0:.4f}'.format(acc_val))\n",
        "\n",
        "  models[mdl] = acc_val\n",
        "  mdl += 1\n",
        "\n",
        "best_model = max(models, key=models.get)\n",
        "print(\"Best validation accuracy: \", best_model)\n",
        "\n",
        "predictions = predict(test['x'])\n",
        "acc_test = calc_acc(test['y'], predictions)\n",
        "print('Test set accuracy for the final model: {}%'.format(round(100*acc_test)))\n"
      ]
    },
    {
      "cell_type": "markdown",
      "source": [
        "Matrica konfuzije"
      ],
      "metadata": {
        "id": "ChRbon2VyJEp"
      }
    },
    {
      "cell_type": "code",
      "source": [
        "cf_matrix = confusion_matrix(test['y'], predictions)\n",
        "ax = sns.heatmap(cf_matrix/np.sum(cf_matrix), annot=True, \n",
        "            fmt='.2%', cmap='Blues')\n",
        "\n",
        "ax.set_title('Matrica konfuzije\\n\\n');\n",
        "ax.set_xlabel('\\nVrednosti predikcije')\n",
        "ax.set_ylabel('Prave vrednosti');\n",
        "\n",
        "ax.xaxis.set_ticklabels(['False','True'])\n",
        "ax.yaxis.set_ticklabels(['False','True'])\n",
        "\n",
        "plt.show()"
      ],
      "metadata": {
        "colab": {
          "base_uri": "https://localhost:8080/",
          "height": 337
        },
        "id": "hkwArPRtyMHI",
        "outputId": "6aede6b4-62b5-4a19-8128-75825d5b503b"
      },
      "execution_count": null,
      "outputs": [
        {
          "output_type": "display_data",
          "data": {
            "text/plain": [
              "<Figure size 432x288 with 2 Axes>"
            ],
            "image/png": "[encoded data removed]"
          },
          "metadata": {
            "needs_background": "light"
          }
        }
      ]
    },
    {
      "cell_type": "markdown",
      "source": [
        "[5p] Navesti 3 primera u kojima izrazito želimo da imamo što manje FP čak i na račun povećanja FN i 3 primera kada važi obrnuto – želimo da imamo što manje FN čak i na račun povećanja broja FP. \n",
        "\n",
        "> False Postive:\n",
        "Primeri u kojima izrazito zelimo da imamo sto manje False Positive\n",
        "\n",
        "1) Ne zelimo lazno pozitivan test ukoliko su u pitanju rezultati merenja vrednsoti u zdravstvene svrhe. (Lazno pozitivan test na koronu)\n",
        "\n",
        "2) Ne zelimo kada se vrsi testiranje na drogu. (Ukoliko se vrsi testiranje unutar neke firme da nas test ispadne lazno pozitivan)\n",
        "\n",
        "3) Prilikom sudjenja ukoliko osoba bude proglasena krivom, a nevina je.\n",
        "\n",
        "> False Negative:\n",
        "Primeri u kojima izrazito zelimo da imamo sto manje False Negative\n",
        "\n",
        "1) Prilikom sudjenja ukoliko osoba bude proglasena nevinom, a kriva je.\n",
        "\n",
        "2) Kontrola kvaliteta u proizvodnji, lazni negativni test u ovoj oblasti znači da neispravna stvar prolazi kroz pukotine.\n",
        "\n",
        "3) U testiranju softvera, rezultati lazno negativanog testa bi značili da je test dizajniran da uhvati nešto (tj. virus), a nije uspeo."
      ],
      "metadata": {
        "id": "DX7jv3ma25dZ"
      }
    }
  ],
  "metadata": {
    "colab": {
      "collapsed_sections": [],
      "name": "Copy of Masinsko_ucenje.ipynb",
      "provenance": []
    },
    "kernelspec": {
      "display_name": "Python 3",
      "name": "python3"
    },
    "language_info": {
      "name": "python"
    }
  },
  "nbformat": 4,
  "nbformat_minor": 0
}